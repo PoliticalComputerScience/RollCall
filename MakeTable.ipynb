{
 "cells": [
  {
   "cell_type": "code",
   "execution_count": 18,
   "metadata": {
    "collapsed": false
   },
   "outputs": [],
   "source": [
    "import pandas as pd\n",
    "import numpy as np\n",
    "import matplotlib.pyplot as plt\n",
    "from IPython.display import display\n",
    "import ipywidgets as widgets\n",
    "from ipywidgets import interact\n",
    "import graphing\n",
    "import spectralClustering\n",
    "import louvain_algorithm_modularity\n",
    "\n",
    "plt.style.use('fivethirtyeight')"
   ]
  },
  {
   "cell_type": "code",
   "execution_count": 21,
   "metadata": {
    "collapsed": false
   },
   "outputs": [],
   "source": [
    "sessions = ['109', '110', '111', '112', '114', '115']\n",
    "getNaive = lambda session : graphing.create_graph('naive_' + session + '_house_metric.csv')\n",
    "getSponsorship = lambda session : graphing.create_graph(\"sponsorship_\" + session + \"_house_metric.csv\")"
   ]
  },
  {
   "cell_type": "code",
   "execution_count": null,
   "metadata": {
    "collapsed": false
   },
   "outputs": [
    {
     "name": "stderr",
     "output_type": "stream",
     "text": [
      "/Users/hermanbathla/anaconda/lib/python3.6/site-packages/sklearn/cluster/spectral.py:433: UserWarning: The spectral clustering API has changed. ``fit``now constructs an affinity matrix from data. To use a custom affinity matrix, set ``affinity=precomputed``.\n",
      "  warnings.warn(\"The spectral clustering API has changed. ``fit``\"\n",
      "/Users/hermanbathla/anaconda/lib/python3.6/site-packages/sklearn/utils/graph.py:115: FutureWarning: Conversion of the second argument of issubdtype from `int` to `np.signedinteger` is deprecated. In future, it will be treated as `np.int64 == np.dtype(int).type`.\n",
      "  if normed and (np.issubdtype(csgraph.dtype, np.int)\n",
      "/Users/hermanbathla/anaconda/lib/python3.6/site-packages/sklearn/manifold/spectral_embedding_.py:229: UserWarning: Graph is not fully connected, spectral embedding may not work as expected.\n",
      "  warnings.warn(\"Graph is not fully connected, spectral embedding\"\n"
     ]
    }
   ],
   "source": [
    "louvainModularity = []\n",
    "louvainNumClusters = []\n",
    "spectralModularity = []\n",
    "spectralNumClusters = []\n",
    "spectralGamma = []\n",
    "\n",
    "for s in sessions:\n",
    "    curr = getNaive(s)\n",
    "    \n",
    "    (_, lNumCluster, lMod) = louvain_algorithm_modularity.louvainCluster(curr)\n",
    "    louvainModularity.append(lMod)\n",
    "    louvainNumClusters.append(lNumCluster)\n",
    "\n",
    "    (_, specNumCluster, specGamma, specMod) = spectralClustering.spectralCluster(curr)\n",
    "    spectralModularity.append(specMod)\n",
    "    spectralNumClusters.append(specNumCluster)\n",
    "    spectralGamma.append(specGamma)\n",
    "    \n",
    "\n",
    "naiveData = {\"Session\":sessions,\n",
    "                  \"Louvain Algorithm Modularity\":louvainModularity,\n",
    "                  \"Louvain Number of Clusters\":louvainNumClusters,\n",
    "                  \"Spectral Algorithm Modularity\":spectralModularity,\n",
    "                  \"Spectral Number of Clusters\":spectralNumClusters,\n",
    "                  \"Spectral Gamma Parameter\":spectralGamma\n",
    "             }\n",
    "\n",
    "naiveTable = pd.DataFrame(naiveData)\n",
    "naiveTable"
   ]
  },
  {
   "cell_type": "code",
   "execution_count": null,
   "metadata": {
    "collapsed": true
   },
   "outputs": [],
   "source": [
    "louvainModularity = []\n",
    "louvainNumClusters = []\n",
    "spectralModularity = []\n",
    "spectralNumClusters = []\n",
    "spectralGamma = []\n",
    "\n",
    "for s in sessions:\n",
    "    curr = getSponsorship(s)\n",
    "    \n",
    "    (_, lNumCluster, lMod) = louvain_algorithm_modularity.louvainCluster(curr)\n",
    "    louvainModularity.append(lMod)\n",
    "    louvainNumClusters.append(lNumCluster)\n",
    "\n",
    "    (_, specNumCluster, specGamma, specMod) = spectralClustering.spectralCluster(curr)\n",
    "    spectralModularity.append(specMod)\n",
    "    spectralNumClusters.append(specNumCluster)\n",
    "    spectralGamma.append(specGamma)\n",
    "    \n",
    "\n",
    "sponsorshipData = {\"Session\":sessions,\n",
    "                  \"Louvain Algorithm Modularity\":louvainModularity,\n",
    "                  \"Louvain Number of Clusters\":louvainNumClusters,\n",
    "                  \"Spectral Algorithm Modularity\":spectralModularity,\n",
    "                  \"Spectral Number of Clusters\":spectralNumClusters,\n",
    "                  \"Spectral Gamma Parameter\":spectralGamma\n",
    "             }\n",
    "\n",
    "sponsorshipTable = pd.DataFrame(sponsorshipData)\n",
    "sponsorshipTable"
   ]
  },
  {
   "cell_type": "code",
   "execution_count": null,
   "metadata": {
    "collapsed": true
   },
   "outputs": [],
   "source": []
  }
 ],
 "metadata": {
  "kernelspec": {
   "display_name": "Python 3",
   "language": "python",
   "name": "python3"
  },
  "language_info": {
   "codemirror_mode": {
    "name": "ipython",
    "version": 3
   },
   "file_extension": ".py",
   "mimetype": "text/x-python",
   "name": "python",
   "nbconvert_exporter": "python",
   "pygments_lexer": "ipython3",
   "version": "3.6.0"
  }
 },
 "nbformat": 4,
 "nbformat_minor": 2
}
